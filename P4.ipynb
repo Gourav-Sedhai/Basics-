{
 "cells": [
  {
   "cell_type": "code",
   "execution_count": 1,
   "metadata": {},
   "outputs": [],
   "source": [
    "#WAP to print the factorial of a number using for loop"
   ]
  },
  {
   "cell_type": "code",
   "execution_count": 2,
   "metadata": {},
   "outputs": [],
   "source": [
    "def fact(num):\n",
    "    fact = 1\n",
    "    \n",
    "    for i in range(1, num+1):\n",
    "        fact *= i\n",
    "    \n",
    "    return fact"
   ]
  },
  {
   "cell_type": "code",
   "execution_count": 3,
   "metadata": {},
   "outputs": [
    {
     "name": "stdout",
     "output_type": "stream",
     "text": [
      "Enter number: 5\n"
     ]
    },
    {
     "data": {
      "text/plain": [
       "120"
      ]
     },
     "execution_count": 3,
     "metadata": {},
     "output_type": "execute_result"
    }
   ],
   "source": [
    "num = int(input(\"Enter number: \"))\n",
    "fact(num)"
   ]
  },
  {
   "cell_type": "code",
   "execution_count": 4,
   "metadata": {},
   "outputs": [],
   "source": [
    "#WAP to print fibonacci series upto 8 using for loop"
   ]
  },
  {
   "cell_type": "code",
   "execution_count": 71,
   "metadata": {},
   "outputs": [],
   "source": [
    "def fibo(num):\n",
    "    fibo = 0\n",
    "    sum = 0\n",
    "    x = 0\n",
    "    y = 1\n",
    "    \n",
    "    for i in range(fibo, num):\n",
    "        print(sum, end = \" \")\n",
    "        \n",
    "        x = y\n",
    "        y = sum\n",
    "        \n",
    "        sum = x + y\n",
    "        fibo += 1\n"
   ]
  },
  {
   "cell_type": "code",
   "execution_count": 72,
   "metadata": {},
   "outputs": [
    {
     "name": "stdout",
     "output_type": "stream",
     "text": [
      "Enter number: 7\n",
      "0 1 1 2 3 5 8 "
     ]
    }
   ],
   "source": [
    "num = int(input(\"Enter number: \"))\n",
    "fibo(num)"
   ]
  },
  {
   "cell_type": "code",
   "execution_count": 20,
   "metadata": {},
   "outputs": [],
   "source": [
    "#WAP to check whether the number entered is prime or not"
   ]
  },
  {
   "cell_type": "code",
   "execution_count": 55,
   "metadata": {},
   "outputs": [],
   "source": [
    "def prime(num):\n",
    "    \n",
    "    if num > 1:\n",
    "        \n",
    "        for i in range(2, num//2):\n",
    "            \n",
    "            if num % i == 0:\n",
    "                return \"Not a Prime Number!\"\n",
    "                break\n",
    "        else:\n",
    "            return \"Prime Number!\"\n",
    "                \n",
    "    else:\n",
    "        return \"Not a Prime Number!\""
   ]
  },
  {
   "cell_type": "code",
   "execution_count": 56,
   "metadata": {},
   "outputs": [
    {
     "name": "stdout",
     "output_type": "stream",
     "text": [
      "Enter number: 15\n"
     ]
    },
    {
     "data": {
      "text/plain": [
       "'Not a Prime Number!'"
      ]
     },
     "execution_count": 56,
     "metadata": {},
     "output_type": "execute_result"
    }
   ],
   "source": [
    "num = int(input(\"Enter number: \"))\n",
    "prime(num)"
   ]
  },
  {
   "cell_type": "code",
   "execution_count": 67,
   "metadata": {},
   "outputs": [
    {
     "name": "stdout",
     "output_type": "stream",
     "text": [
      "1 \r\n",
      "1 2 \r\n",
      "1 2 3 \r\n",
      "1 2 3 4 \r\n",
      "1 2 3 \r\n",
      "1 2 \r\n",
      "1 \r\n",
      "\r\n"
     ]
    }
   ],
   "source": [
    "\"\"\"\n",
    "WAP to display the pattern of numbers\n",
    "1\n",
    "1 2\n",
    "1 2 3\n",
    "1 2 3 4\n",
    "1 2 3\n",
    "1 2\n",
    "1\n",
    "\"\"\"\n",
    "\n",
    "def triangle(num):\n",
    "\n",
    "    for i in range(1, num+1):\n",
    "        for j in range(1, i+1):\n",
    "            print(j, end = \" \")\n",
    "            \n",
    "        print(\"\\r\")\n",
    "        \n",
    "    for i in range(num+1, 1, -1):\n",
    "        for j in range(1, i-1):\n",
    "            print(j, end = \" \")\n",
    "            \n",
    "        print(\"\\r\") \n",
    "            \n",
    "triangle(4)"
   ]
  },
  {
   "cell_type": "code",
   "execution_count": null,
   "metadata": {},
   "outputs": [],
   "source": []
  }
 ],
 "metadata": {
  "kernelspec": {
   "display_name": "Python 3",
   "language": "python",
   "name": "python3"
  },
  "language_info": {
   "codemirror_mode": {
    "name": "ipython",
    "version": 3
   },
   "file_extension": ".py",
   "mimetype": "text/x-python",
   "name": "python",
   "nbconvert_exporter": "python",
   "pygments_lexer": "ipython3",
   "version": "3.8.5"
  }
 },
 "nbformat": 4,
 "nbformat_minor": 4
}
